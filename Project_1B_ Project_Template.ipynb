{
 "cells": [
  {
   "cell_type": "markdown",
   "metadata": {},
   "source": [
    "# Part I. ETL Pipeline for Pre-Processing the Files"
   ]
  },
  {
   "cell_type": "markdown",
   "metadata": {},
   "source": [
    "## PLEASE RUN THE FOLLOWING CODE FOR PRE-PROCESSING THE FILES"
   ]
  },
  {
   "cell_type": "markdown",
   "metadata": {},
   "source": [
    "#### Import and Install Python packages "
   ]
  },
  {
   "cell_type": "code",
   "execution_count": 8,
   "metadata": {},
   "outputs": [
    {
     "name": "stdout",
     "output_type": "stream",
     "text": [
      "Collecting cassandra-driver\n",
      "  Obtaining dependency information for cassandra-driver from https://files.pythonhosted.org/packages/a2/44/2083985d2ade948bf18a9bfb1192e0462435c9e7db0ac9db4daf4d689c09/cassandra_driver-3.28.0-cp39-cp39-win_amd64.whl.metadata\n",
      "  Downloading cassandra_driver-3.28.0-cp39-cp39-win_amd64.whl.metadata (5.9 kB)\n",
      "Collecting pandas\n",
      "  Obtaining dependency information for pandas from https://files.pythonhosted.org/packages/9a/f2/0ad053856debbe90c83de1b4f05915f85fd2146f20faf9daa3b320d36df3/pandas-2.0.3-cp39-cp39-win_amd64.whl.metadata\n",
      "  Downloading pandas-2.0.3-cp39-cp39-win_amd64.whl.metadata (18 kB)\n",
      "Collecting numpy\n",
      "  Obtaining dependency information for numpy from https://files.pythonhosted.org/packages/df/18/181fb40f03090c6fbd061bb8b1f4c32453f7c602b0dc7c08b307baca7cd7/numpy-1.25.2-cp39-cp39-win_amd64.whl.metadata\n",
      "  Downloading numpy-1.25.2-cp39-cp39-win_amd64.whl.metadata (5.7 kB)\n",
      "Requirement already satisfied: six>=1.9 in c:\\users\\paolo\\miniconda3\\envs\\deprojects\\lib\\site-packages (from cassandra-driver) (1.16.0)\n",
      "Collecting geomet<0.3,>=0.1 (from cassandra-driver)\n",
      "  Downloading geomet-0.2.1.post1-py3-none-any.whl (18 kB)\n",
      "Requirement already satisfied: python-dateutil>=2.8.2 in c:\\users\\paolo\\miniconda3\\envs\\deprojects\\lib\\site-packages (from pandas) (2.8.2)\n",
      "Requirement already satisfied: pytz>=2020.1 in c:\\users\\paolo\\miniconda3\\envs\\deprojects\\lib\\site-packages (from pandas) (2022.7)\n",
      "Collecting tzdata>=2022.1 (from pandas)\n",
      "  Downloading tzdata-2023.3-py2.py3-none-any.whl (341 kB)\n",
      "     ---------------------------------------- 0.0/341.8 kB ? eta -:--:--\n",
      "     --- ----------------------------------- 30.7/341.8 kB 1.3 MB/s eta 0:00:01\n",
      "     ------ ------------------------------ 61.4/341.8 kB 656.4 kB/s eta 0:00:01\n",
      "     --------- --------------------------- 92.2/341.8 kB 751.6 kB/s eta 0:00:01\n",
      "     --------------- -------------------- 143.4/341.8 kB 711.9 kB/s eta 0:00:01\n",
      "     ---------------- ------------------- 153.6/341.8 kB 612.6 kB/s eta 0:00:01\n",
      "     ------------------------- ---------- 245.8/341.8 kB 838.1 kB/s eta 0:00:01\n",
      "     ------------------------------ ----- 286.7/341.8 kB 886.2 kB/s eta 0:00:01\n",
      "     -----------------------------------  337.9/341.8 kB 952.6 kB/s eta 0:00:01\n",
      "     -----------------------------------  337.9/341.8 kB 952.6 kB/s eta 0:00:01\n",
      "     ------------------------------------ 341.8/341.8 kB 732.0 kB/s eta 0:00:00\n",
      "Collecting click (from geomet<0.3,>=0.1->cassandra-driver)\n",
      "  Obtaining dependency information for click from https://files.pythonhosted.org/packages/1a/70/e63223f8116931d365993d4a6b7ef653a4d920b41d03de7c59499962821f/click-8.1.6-py3-none-any.whl.metadata\n",
      "  Downloading click-8.1.6-py3-none-any.whl.metadata (3.0 kB)\n",
      "Requirement already satisfied: colorama in c:\\users\\paolo\\miniconda3\\envs\\deprojects\\lib\\site-packages (from click->geomet<0.3,>=0.1->cassandra-driver) (0.4.6)\n",
      "Downloading cassandra_driver-3.28.0-cp39-cp39-win_amd64.whl (2.9 MB)\n",
      "   ---------------------------------------- 0.0/2.9 MB ? eta -:--:--\n",
      "   -- ------------------------------------- 0.2/2.9 MB 3.1 MB/s eta 0:00:01\n",
      "   ---- ----------------------------------- 0.4/2.9 MB 3.7 MB/s eta 0:00:01\n",
      "   ----- ---------------------------------- 0.4/2.9 MB 3.1 MB/s eta 0:00:01\n",
      "   ------ --------------------------------- 0.5/2.9 MB 2.5 MB/s eta 0:00:01\n",
      "   ---------- ----------------------------- 0.8/2.9 MB 3.3 MB/s eta 0:00:01\n",
      "   ----------- ---------------------------- 0.8/2.9 MB 3.3 MB/s eta 0:00:01\n",
      "   ------------- -------------------------- 1.0/2.9 MB 3.3 MB/s eta 0:00:01\n",
      "   -------------- ------------------------- 1.1/2.9 MB 3.1 MB/s eta 0:00:01\n",
      "   ----------------- ---------------------- 1.3/2.9 MB 3.3 MB/s eta 0:00:01\n",
      "   ------------------- -------------------- 1.4/2.9 MB 3.1 MB/s eta 0:00:01\n",
      "   --------------------- ------------------ 1.6/2.9 MB 3.0 MB/s eta 0:00:01\n",
      "   ------------------------- -------------- 1.9/2.9 MB 3.3 MB/s eta 0:00:01\n",
      "   --------------------------- ------------ 2.0/2.9 MB 3.3 MB/s eta 0:00:01\n",
      "   ------------------------------ --------- 2.2/2.9 MB 3.4 MB/s eta 0:00:01\n",
      "   --------------------------------- ------ 2.4/2.9 MB 3.5 MB/s eta 0:00:01\n",
      "   ------------------------------------ --- 2.7/2.9 MB 3.5 MB/s eta 0:00:01\n",
      "   ---------------------------------------  2.9/2.9 MB 3.6 MB/s eta 0:00:01\n",
      "   ---------------------------------------  2.9/2.9 MB 3.6 MB/s eta 0:00:01\n",
      "   ---------------------------------------  2.9/2.9 MB 3.6 MB/s eta 0:00:01\n",
      "   ---------------------------------------- 2.9/2.9 MB 3.0 MB/s eta 0:00:00\n",
      "Downloading pandas-2.0.3-cp39-cp39-win_amd64.whl (10.8 MB)\n",
      "   ---------------------------------------- 0.0/10.8 MB ? eta -:--:--\n",
      "   - -------------------------------------- 0.3/10.8 MB 10.2 MB/s eta 0:00:02\n",
      "   -- ------------------------------------- 0.6/10.8 MB 7.2 MB/s eta 0:00:02\n",
      "   --- ------------------------------------ 0.8/10.8 MB 5.7 MB/s eta 0:00:02\n",
      "   --- ------------------------------------ 1.0/10.8 MB 5.4 MB/s eta 0:00:02\n",
      "   ----- ---------------------------------- 1.4/10.8 MB 5.5 MB/s eta 0:00:02\n",
      "   ----- ---------------------------------- 1.4/10.8 MB 4.8 MB/s eta 0:00:02\n",
      "   ------ --------------------------------- 1.7/10.8 MB 4.8 MB/s eta 0:00:02\n",
      "   ------- -------------------------------- 1.9/10.8 MB 4.8 MB/s eta 0:00:02\n",
      "   ------- -------------------------------- 2.1/10.8 MB 4.5 MB/s eta 0:00:02\n",
      "   ------- -------------------------------- 2.1/10.8 MB 4.4 MB/s eta 0:00:02\n",
      "   -------- ------------------------------- 2.3/10.8 MB 4.2 MB/s eta 0:00:03\n",
      "   --------- ------------------------------ 2.5/10.8 MB 4.2 MB/s eta 0:00:02\n",
      "   --------- ------------------------------ 2.6/10.8 MB 4.2 MB/s eta 0:00:02\n",
      "   ---------- ----------------------------- 2.8/10.8 MB 4.1 MB/s eta 0:00:02\n",
      "   ----------- ---------------------------- 3.0/10.8 MB 4.2 MB/s eta 0:00:02\n",
      "   ----------- ---------------------------- 3.2/10.8 MB 4.1 MB/s eta 0:00:02\n",
      "   ------------ --------------------------- 3.3/10.8 MB 4.1 MB/s eta 0:00:02\n",
      "   ------------- -------------------------- 3.6/10.8 MB 4.1 MB/s eta 0:00:02\n",
      "   -------------- ------------------------- 3.8/10.8 MB 4.2 MB/s eta 0:00:02\n",
      "   --------------- ------------------------ 4.1/10.8 MB 4.3 MB/s eta 0:00:02\n",
      "   ---------------- ----------------------- 4.3/10.8 MB 4.3 MB/s eta 0:00:02\n",
      "   ---------------- ----------------------- 4.5/10.8 MB 4.3 MB/s eta 0:00:02\n",
      "   ----------------- ---------------------- 4.8/10.8 MB 4.3 MB/s eta 0:00:02\n",
      "   ------------------- -------------------- 5.1/10.8 MB 4.4 MB/s eta 0:00:02\n",
      "   ------------------- -------------------- 5.2/10.8 MB 4.3 MB/s eta 0:00:02\n",
      "   -------------------- ------------------- 5.6/10.8 MB 4.4 MB/s eta 0:00:02\n",
      "   --------------------- ------------------ 5.9/10.8 MB 4.5 MB/s eta 0:00:02\n",
      "   ---------------------- ----------------- 6.1/10.8 MB 4.5 MB/s eta 0:00:02\n",
      "   ----------------------- ---------------- 6.3/10.8 MB 4.5 MB/s eta 0:00:02\n",
      "   ------------------------ --------------- 6.5/10.8 MB 4.5 MB/s eta 0:00:01\n",
      "   ------------------------ --------------- 6.7/10.8 MB 4.5 MB/s eta 0:00:01\n",
      "   ------------------------- -------------- 6.7/10.8 MB 4.4 MB/s eta 0:00:01\n",
      "   ------------------------- -------------- 7.0/10.8 MB 4.4 MB/s eta 0:00:01\n",
      "   -------------------------- ------------- 7.2/10.8 MB 4.4 MB/s eta 0:00:01\n",
      "   --------------------------- ------------ 7.4/10.8 MB 4.4 MB/s eta 0:00:01\n",
      "   ---------------------------- ----------- 7.6/10.8 MB 4.4 MB/s eta 0:00:01\n",
      "   ----------------------------- ---------- 7.9/10.8 MB 4.4 MB/s eta 0:00:01\n",
      "   ------------------------------ --------- 8.2/10.8 MB 4.5 MB/s eta 0:00:01\n",
      "   ------------------------------- -------- 8.5/10.8 MB 4.5 MB/s eta 0:00:01\n",
      "   -------------------------------- ------- 8.8/10.8 MB 4.6 MB/s eta 0:00:01\n",
      "   ---------------------------------- ----- 9.1/10.8 MB 4.6 MB/s eta 0:00:01\n",
      "   ---------------------------------- ----- 9.4/10.8 MB 4.7 MB/s eta 0:00:01\n",
      "   ------------------------------------ --- 9.7/10.8 MB 4.7 MB/s eta 0:00:01\n",
      "   ------------------------------------ --- 9.8/10.8 MB 4.7 MB/s eta 0:00:01\n",
      "   ------------------------------------- -- 10.1/10.8 MB 4.6 MB/s eta 0:00:01\n",
      "   -------------------------------------- - 10.3/10.8 MB 4.6 MB/s eta 0:00:01\n",
      "   -------------------------------------- - 10.5/10.8 MB 4.6 MB/s eta 0:00:01\n",
      "   ---------------------------------------  10.8/10.8 MB 4.6 MB/s eta 0:00:01\n",
      "   ---------------------------------------  10.8/10.8 MB 4.6 MB/s eta 0:00:01\n",
      "   ---------------------------------------  10.8/10.8 MB 4.6 MB/s eta 0:00:01\n",
      "   ---------------------------------------  10.8/10.8 MB 4.6 MB/s eta 0:00:01\n",
      "   ---------------------------------------  10.8/10.8 MB 4.6 MB/s eta 0:00:01\n",
      "   ---------------------------------------  10.8/10.8 MB 4.6 MB/s eta 0:00:01\n",
      "   ---------------------------------------- 10.8/10.8 MB 4.1 MB/s eta 0:00:00\n",
      "Downloading numpy-1.25.2-cp39-cp39-win_amd64.whl (15.6 MB)\n",
      "   ---------------------------------------- 0.0/15.6 MB ? eta -:--:--\n",
      "   ---------------------------------------- 0.1/15.6 MB 4.3 MB/s eta 0:00:04\n",
      "    --------------------------------------- 0.4/15.6 MB 4.5 MB/s eta 0:00:04\n",
      "   - -------------------------------------- 0.5/15.6 MB 3.6 MB/s eta 0:00:05\n",
      "   - -------------------------------------- 0.5/15.6 MB 3.1 MB/s eta 0:00:05\n",
      "   - -------------------------------------- 0.7/15.6 MB 3.3 MB/s eta 0:00:05\n",
      "   -- ------------------------------------- 0.9/15.6 MB 3.3 MB/s eta 0:00:05\n",
      "   -- ------------------------------------- 1.0/15.6 MB 3.3 MB/s eta 0:00:05\n",
      "   --- ------------------------------------ 1.3/15.6 MB 3.6 MB/s eta 0:00:04\n",
      "   --- ------------------------------------ 1.6/15.6 MB 3.8 MB/s eta 0:00:04\n",
      "   ---- ----------------------------------- 1.6/15.6 MB 3.6 MB/s eta 0:00:04\n",
      "   ---- ----------------------------------- 1.8/15.6 MB 3.7 MB/s eta 0:00:04\n",
      "   ----- ---------------------------------- 2.1/15.6 MB 3.8 MB/s eta 0:00:04\n",
      "   ----- ---------------------------------- 2.3/15.6 MB 3.8 MB/s eta 0:00:04\n",
      "   ------ --------------------------------- 2.4/15.6 MB 3.9 MB/s eta 0:00:04\n",
      "   ------ --------------------------------- 2.5/15.6 MB 3.7 MB/s eta 0:00:04\n",
      "   ------- -------------------------------- 2.8/15.6 MB 3.9 MB/s eta 0:00:04\n",
      "   ------- -------------------------------- 3.1/15.6 MB 3.9 MB/s eta 0:00:04\n",
      "   -------- ------------------------------- 3.3/15.6 MB 4.0 MB/s eta 0:00:04\n",
      "   --------- ------------------------------ 3.5/15.6 MB 4.0 MB/s eta 0:00:04\n",
      "   --------- ------------------------------ 3.7/15.6 MB 4.0 MB/s eta 0:00:03\n",
      "   ---------- ----------------------------- 4.0/15.6 MB 4.1 MB/s eta 0:00:03\n",
      "   ---------- ----------------------------- 4.2/15.6 MB 4.0 MB/s eta 0:00:03\n",
      "   ----------- ---------------------------- 4.4/15.6 MB 4.1 MB/s eta 0:00:03\n",
      "   ------------ --------------------------- 4.7/15.6 MB 4.2 MB/s eta 0:00:03\n",
      "   ------------ --------------------------- 4.9/15.6 MB 4.2 MB/s eta 0:00:03\n",
      "   ------------ --------------------------- 5.0/15.6 MB 4.2 MB/s eta 0:00:03\n",
      "   ------------- -------------------------- 5.2/15.6 MB 4.2 MB/s eta 0:00:03\n",
      "   ------------- -------------------------- 5.4/15.6 MB 4.1 MB/s eta 0:00:03\n",
      "   -------------- ------------------------- 5.6/15.6 MB 4.1 MB/s eta 0:00:03\n",
      "   -------------- ------------------------- 5.7/15.6 MB 4.1 MB/s eta 0:00:03\n",
      "   --------------- ------------------------ 6.1/15.6 MB 4.2 MB/s eta 0:00:03\n",
      "   ---------------- ----------------------- 6.3/15.6 MB 4.2 MB/s eta 0:00:03\n",
      "   ---------------- ----------------------- 6.6/15.6 MB 4.3 MB/s eta 0:00:03\n",
      "   ----------------- ---------------------- 6.9/15.6 MB 4.4 MB/s eta 0:00:02\n",
      "   ------------------ --------------------- 7.2/15.6 MB 4.4 MB/s eta 0:00:02\n",
      "   ------------------- -------------------- 7.5/15.6 MB 4.5 MB/s eta 0:00:02\n",
      "   ------------------- -------------------- 7.8/15.6 MB 4.5 MB/s eta 0:00:02\n",
      "   -------------------- ------------------- 7.9/15.6 MB 4.5 MB/s eta 0:00:02\n",
      "   -------------------- ------------------- 8.0/15.6 MB 4.4 MB/s eta 0:00:02\n",
      "   --------------------- ------------------ 8.4/15.6 MB 4.5 MB/s eta 0:00:02\n",
      "   ---------------------- ----------------- 8.7/15.6 MB 4.5 MB/s eta 0:00:02\n",
      "   ----------------------- ---------------- 9.0/15.6 MB 4.6 MB/s eta 0:00:02\n",
      "   ----------------------- ---------------- 9.2/15.6 MB 4.6 MB/s eta 0:00:02\n",
      "   ------------------------ --------------- 9.5/15.6 MB 4.6 MB/s eta 0:00:02\n",
      "   ------------------------- -------------- 9.8/15.6 MB 4.7 MB/s eta 0:00:02\n",
      "   ------------------------- -------------- 10.1/15.6 MB 4.7 MB/s eta 0:00:02\n",
      "   -------------------------- ------------- 10.3/15.6 MB 4.7 MB/s eta 0:00:02\n",
      "   -------------------------- ------------- 10.4/15.6 MB 4.7 MB/s eta 0:00:02\n",
      "   --------------------------- ------------ 10.6/15.6 MB 4.7 MB/s eta 0:00:02\n",
      "   --------------------------- ------------ 10.8/15.6 MB 4.8 MB/s eta 0:00:01\n",
      "   ---------------------------- ----------- 10.9/15.6 MB 4.7 MB/s eta 0:00:01\n",
      "   ---------------------------- ----------- 11.1/15.6 MB 4.7 MB/s eta 0:00:01\n",
      "   ----------------------------- ---------- 11.4/15.6 MB 4.8 MB/s eta 0:00:01\n",
      "   ----------------------------- ---------- 11.6/15.6 MB 4.7 MB/s eta 0:00:01\n",
      "   ------------------------------ --------- 11.7/15.6 MB 4.7 MB/s eta 0:00:01\n",
      "   ------------------------------ --------- 11.7/15.6 MB 4.7 MB/s eta 0:00:01\n",
      "   ------------------------------ --------- 11.7/15.6 MB 4.7 MB/s eta 0:00:01\n",
      "   ------------------------------ --------- 11.7/15.6 MB 4.7 MB/s eta 0:00:01\n",
      "   ------------------------------ --------- 11.7/15.6 MB 4.7 MB/s eta 0:00:01\n",
      "   ------------------------------ --------- 11.7/15.6 MB 4.7 MB/s eta 0:00:01\n",
      "   ------------------------------- -------- 12.2/15.6 MB 4.4 MB/s eta 0:00:01\n",
      "   ------------------------------- -------- 12.2/15.6 MB 4.4 MB/s eta 0:00:01\n",
      "   ----------------------------------- ---- 13.7/15.6 MB 5.0 MB/s eta 0:00:01\n",
      "   ----------------------------------- ---- 14.0/15.6 MB 5.0 MB/s eta 0:00:01\n",
      "   ------------------------------------ --- 14.3/15.6 MB 5.1 MB/s eta 0:00:01\n",
      "   ------------------------------------- -- 14.6/15.6 MB 5.1 MB/s eta 0:00:01\n",
      "   -------------------------------------- - 14.8/15.6 MB 5.1 MB/s eta 0:00:01\n",
      "   -------------------------------------- - 15.0/15.6 MB 5.0 MB/s eta 0:00:01\n",
      "   -------------------------------------- - 15.0/15.6 MB 5.0 MB/s eta 0:00:01\n",
      "   -------------------------------------- - 15.0/15.6 MB 4.8 MB/s eta 0:00:01\n",
      "   ---------------------------------------  15.6/15.6 MB 5.1 MB/s eta 0:00:01\n",
      "   ---------------------------------------  15.6/15.6 MB 5.1 MB/s eta 0:00:01\n",
      "   ---------------------------------------  15.6/15.6 MB 5.1 MB/s eta 0:00:01\n",
      "   ---------------------------------------  15.6/15.6 MB 5.1 MB/s eta 0:00:01\n",
      "   ---------------------------------------  15.6/15.6 MB 5.1 MB/s eta 0:00:01\n",
      "   ---------------------------------------  15.6/15.6 MB 5.1 MB/s eta 0:00:01\n",
      "   ---------------------------------------  15.6/15.6 MB 5.1 MB/s eta 0:00:01\n",
      "   ---------------------------------------  15.6/15.6 MB 5.1 MB/s eta 0:00:01\n",
      "   ---------------------------------------  15.6/15.6 MB 5.1 MB/s eta 0:00:01\n",
      "   ---------------------------------------- 15.6/15.6 MB 4.2 MB/s eta 0:00:00\n",
      "Downloading click-8.1.6-py3-none-any.whl (97 kB)\n",
      "   ---------------------------------------- 0.0/97.9 kB ? eta -:--:--\n",
      "   ------------------------------------- -- 92.2/97.9 kB 5.5 MB/s eta 0:00:01\n",
      "   ------------------------------------- -- 92.2/97.9 kB 5.5 MB/s eta 0:00:01\n",
      "   ------------------------------------- -- 92.2/97.9 kB 5.5 MB/s eta 0:00:01\n",
      "   ------------------------------------- -- 92.2/97.9 kB 5.5 MB/s eta 0:00:01\n",
      "   ------------------------------------- -- 92.2/97.9 kB 5.5 MB/s eta 0:00:01\n",
      "   ------------------------------------- -- 92.2/97.9 kB 5.5 MB/s eta 0:00:01\n",
      "   ------------------------------------- -- 92.2/97.9 kB 5.5 MB/s eta 0:00:01\n",
      "   ---------------------------------------- 97.9/97.9 kB 281.0 kB/s eta 0:00:00\n",
      "Installing collected packages: tzdata, numpy, click, pandas, geomet, cassandra-driver\n",
      "Successfully installed cassandra-driver-3.28.0 click-8.1.6 geomet-0.2.1.post1 numpy-1.25.2 pandas-2.0.3 tzdata-2023.3\n"
     ]
    },
    {
     "name": "stdout",
     "output_type": "stream",
     "text": [
      "Requirement already satisfied: cassandra-driver in c:\\users\\paolo\\miniconda3\\envs\\deprojects\\lib\\site-packages (3.28.0)\n",
      "Requirement already satisfied: pandas in c:\\users\\paolo\\miniconda3\\envs\\deprojects\\lib\\site-packages (2.0.3)\n",
      "Requirement already satisfied: numpy in c:\\users\\paolo\\miniconda3\\envs\\deprojects\\lib\\site-packages (1.25.2)\n",
      "Requirement already satisfied: six>=1.9 in c:\\users\\paolo\\miniconda3\\envs\\deprojects\\lib\\site-packages (from cassandra-driver) (1.16.0)\n",
      "Requirement already satisfied: geomet<0.3,>=0.1 in c:\\users\\paolo\\miniconda3\\envs\\deprojects\\lib\\site-packages (from cassandra-driver) (0.2.1.post1)\n",
      "Requirement already satisfied: python-dateutil>=2.8.2 in c:\\users\\paolo\\miniconda3\\envs\\deprojects\\lib\\site-packages (from pandas) (2.8.2)\n",
      "Requirement already satisfied: pytz>=2020.1 in c:\\users\\paolo\\miniconda3\\envs\\deprojects\\lib\\site-packages (from pandas) (2022.7)\n",
      "Requirement already satisfied: tzdata>=2022.1 in c:\\users\\paolo\\miniconda3\\envs\\deprojects\\lib\\site-packages (from pandas) (2023.3)\n",
      "Requirement already satisfied: click in c:\\users\\paolo\\miniconda3\\envs\\deprojects\\lib\\site-packages (from geomet<0.3,>=0.1->cassandra-driver) (8.1.6)\n",
      "Requirement already satisfied: colorama in c:\\users\\paolo\\miniconda3\\envs\\deprojects\\lib\\site-packages (from click->geomet<0.3,>=0.1->cassandra-driver) (0.4.6)\n"
     ]
    }
   ],
   "source": [
    "!pip install cassandra-driver pandas numpy"
   ]
  },
  {
   "cell_type": "code",
   "execution_count": 9,
   "metadata": {},
   "outputs": [],
   "source": [
    "# Import Python packages \n",
    "import pandas as pd\n",
    "import cassandra\n",
    "import re\n",
    "import os\n",
    "import glob\n",
    "import numpy as np\n",
    "import json\n",
    "import csv"
   ]
  },
  {
   "cell_type": "markdown",
   "metadata": {},
   "source": [
    "#### Creating list of filepaths to process original event csv data files"
   ]
  },
  {
   "cell_type": "code",
   "execution_count": 5,
   "metadata": {},
   "outputs": [
    {
     "name": "stdout",
     "output_type": "stream",
     "text": [
      "C:\\Users\\paolo\\bootLabs\\Projects DE\\Project-Data-Modeling-Cassandra\n"
     ]
    }
   ],
   "source": [
    "# checking your current working directory\n",
    "print(os.getcwd())\n",
    "\n",
    "# Get your current folder and subfolder event data\n",
    "filepath = os.getcwd() + '/event_data'\n",
    "\n",
    "# Create a for loop to create a list of files and collect each filepath\n",
    "for root, dirs, files in os.walk(filepath):\n",
    "    \n",
    "# join the file path and roots with the subdirectories using glob\n",
    "    file_path_list = glob.glob(os.path.join(root,'*'))\n",
    "    #print(file_path_list)"
   ]
  },
  {
   "cell_type": "markdown",
   "metadata": {},
   "source": [
    "#### Processing the files to create the data file csv that will be used for Apache Casssandra tables"
   ]
  },
  {
   "cell_type": "code",
   "execution_count": 3,
   "metadata": {},
   "outputs": [],
   "source": [
    "# initiating an empty list of rows that will be generated from each file\n",
    "full_data_rows_list = [] \n",
    "    \n",
    "# for every filepath in the file path list \n",
    "for f in file_path_list:\n",
    "\n",
    "# reading csv file \n",
    "    with open(f, 'r', encoding = 'utf8', newline='') as csvfile: \n",
    "        # creating a csv reader object \n",
    "        csvreader = csv.reader(csvfile) \n",
    "        next(csvreader)\n",
    "        \n",
    " # extracting each data row one by one and append it        \n",
    "        for line in csvreader:\n",
    "            #print(line)\n",
    "            full_data_rows_list.append(line) \n",
    "            \n",
    "# uncomment the code below if you would like to get total number of rows \n",
    "#print(len(full_data_rows_list))\n",
    "# uncomment the code below if you would like to check to see what the list of event data rows will look like\n",
    "#print(full_data_rows_list)\n",
    "\n",
    "# creating a smaller event data csv file called event_datafile_full csv that will be used to insert data into the \\\n",
    "# Apache Cassandra tables\n",
    "csv.register_dialect('myDialect', quoting=csv.QUOTE_ALL, skipinitialspace=True)\n",
    "\n",
    "with open('event_datafile_new.csv', 'w', encoding = 'utf8', newline='') as f:\n",
    "    writer = csv.writer(f, dialect='myDialect')\n",
    "    writer.writerow(['artist','firstName','gender','itemInSession','lastName','length',\\\n",
    "                'level','location','sessionId','song','userId'])\n",
    "    for row in full_data_rows_list:\n",
    "        if (row[0] == ''):\n",
    "            continue\n",
    "        writer.writerow((row[0], row[2], row[3], row[4], row[5], row[6], row[7], row[8], row[12], row[13], row[16]))\n"
   ]
  },
  {
   "cell_type": "code",
   "execution_count": 4,
   "metadata": {},
   "outputs": [
    {
     "name": "stdout",
     "output_type": "stream",
     "text": [
      "6821\n"
     ]
    }
   ],
   "source": [
    "# check the number of rows in your csv file\n",
    "with open('event_datafile_new.csv', 'r', encoding = 'utf8') as f:\n",
    "    print(sum(1 for line in f))"
   ]
  },
  {
   "cell_type": "markdown",
   "metadata": {},
   "source": [
    "# Part II. Complete the Apache Cassandra coding portion of your project. \n",
    "\n",
    "## Now you are ready to work with the CSV file titled <font color=red>event_datafile_new.csv</font>, located within the Workspace directory.  The event_datafile_new.csv contains the following columns: \n",
    "- artist \n",
    "- firstName of user\n",
    "- gender of user\n",
    "- item number in session\n",
    "- last name of user\n",
    "- length of the song\n",
    "- level (paid or free song)\n",
    "- location of the user\n",
    "- sessionId\n",
    "- song title\n",
    "- userId\n",
    "\n",
    "The image below is a screenshot of what the denormalized data should appear like in the <font color=red>**event_datafile_new.csv**</font> after the code above is run:<br>\n",
    "\n",
    "<img src=\"images/image_event_datafile_new.jpg\">"
   ]
  },
  {
   "cell_type": "markdown",
   "metadata": {},
   "source": [
    "## Begin writing your Apache Cassandra code in the cells below"
   ]
  },
  {
   "cell_type": "markdown",
   "metadata": {},
   "source": [
    "#### Creating a Cluster"
   ]
  },
  {
   "cell_type": "code",
   "execution_count": null,
   "metadata": {},
   "outputs": [],
   "source": [
    "from cassandra.cluster import Cluster\n",
    "cluster = Cluster()\n",
    "\n",
    "try: \n",
    "    cluster = Cluster(['127.0.0.1'])\n",
    "    session = cluster.connect()\n",
    "except Exception as e:\n",
    "    print(e)"
   ]
  },
  {
   "cell_type": "markdown",
   "metadata": {},
   "source": [
    "#### Create Keyspace"
   ]
  },
  {
   "cell_type": "code",
   "execution_count": null,
   "metadata": {},
   "outputs": [],
   "source": [
    "# TO-DO: Create a Keyspace "
   ]
  },
  {
   "cell_type": "markdown",
   "metadata": {},
   "source": [
    "#### Set Keyspace"
   ]
  },
  {
   "cell_type": "code",
   "execution_count": null,
   "metadata": {},
   "outputs": [],
   "source": [
    "# TO-DO: Set KEYSPACE to the keyspace specified above\n"
   ]
  },
  {
   "cell_type": "markdown",
   "metadata": {},
   "source": [
    "### Now we need to create tables to run the following queries. Remember, with Apache Cassandra you model the database tables on the queries you want to run."
   ]
  },
  {
   "cell_type": "markdown",
   "metadata": {},
   "source": [
    "## Create queries to ask the following three questions of the data\n",
    "\n",
    "### 1. Give me the artist, song title and song's length in the music app history that was heard during  sessionId = 338, and itemInSession  = 4\n",
    "\n",
    "\n",
    "### 2. Give me only the following: name of artist, song (sorted by itemInSession) and user (first and last name) for userid = 10, sessionid = 182\n",
    "    \n",
    "\n",
    "### 3. Give me every user name (first and last) in my music app history who listened to the song 'All Hands Against His Own'\n",
    "\n",
    "\n"
   ]
  },
  {
   "cell_type": "code",
   "execution_count": 1,
   "metadata": {},
   "outputs": [],
   "source": [
    "## TO-DO: Query 1:  Give me the artist, song title and song's length in the music app history that was heard during \\\n",
    "## sessionId = 338, and itemInSession = 4\n",
    "\n",
    "\n",
    "                    "
   ]
  },
  {
   "cell_type": "code",
   "execution_count": null,
   "metadata": {
    "scrolled": false
   },
   "outputs": [],
   "source": [
    "# We have provided part of the code to set up the CSV file. Please complete the Apache Cassandra code below#\n",
    "file = 'event_datafile_new.csv'\n",
    "\n",
    "with open(file, encoding = 'utf8') as f:\n",
    "    csvreader = csv.reader(f)\n",
    "    next(csvreader) # skip header\n",
    "    for line in csvreader:\n",
    "## TO-DO: Assign the INSERT statements into the `query` variable\n",
    "        query = \"<ENTER INSERT STATEMENT HERE>\"\n",
    "        query = query + \"<ASSIGN VALUES HERE>\"\n",
    "        ## TO-DO: Assign which column element should be assigned for each column in the INSERT statement.\n",
    "        ## For e.g., to INSERT artist_name and user first_name, you would change the code below to `line[0], line[1]`\n",
    "        session.execute(query, (line[#], line[#]))"
   ]
  },
  {
   "cell_type": "markdown",
   "metadata": {},
   "source": [
    "#### Do a SELECT to verify that the data have been inserted into each table"
   ]
  },
  {
   "cell_type": "code",
   "execution_count": null,
   "metadata": {
    "scrolled": true
   },
   "outputs": [],
   "source": [
    "## TO-DO: Add in the SELECT statement to verify the data was entered into the table"
   ]
  },
  {
   "cell_type": "markdown",
   "metadata": {},
   "source": [
    "### COPY AND REPEAT THE ABOVE THREE CELLS FOR EACH OF THE THREE QUESTIONS"
   ]
  },
  {
   "cell_type": "code",
   "execution_count": null,
   "metadata": {},
   "outputs": [],
   "source": [
    "## TO-DO: Query 2: Give me only the following: name of artist, song (sorted by itemInSession) and user (first and last name)\\\n",
    "## for userid = 10, sessionid = 182\n",
    "\n",
    "\n",
    "                    "
   ]
  },
  {
   "cell_type": "code",
   "execution_count": null,
   "metadata": {},
   "outputs": [],
   "source": [
    "## TO-DO: Query 3: Give me every user name (first and last) in my music app history who listened to the song 'All Hands Against His Own'\n",
    "\n",
    "\n",
    "                    "
   ]
  },
  {
   "cell_type": "code",
   "execution_count": null,
   "metadata": {},
   "outputs": [],
   "source": []
  },
  {
   "cell_type": "code",
   "execution_count": null,
   "metadata": {},
   "outputs": [],
   "source": []
  },
  {
   "cell_type": "markdown",
   "metadata": {},
   "source": [
    "### Drop the tables before closing out the sessions"
   ]
  },
  {
   "cell_type": "code",
   "execution_count": 4,
   "metadata": {},
   "outputs": [],
   "source": [
    "## TO-DO: Drop the table before closing out the sessions"
   ]
  },
  {
   "cell_type": "code",
   "execution_count": null,
   "metadata": {},
   "outputs": [],
   "source": []
  },
  {
   "cell_type": "markdown",
   "metadata": {},
   "source": [
    "### Close the session and cluster connection¶"
   ]
  },
  {
   "cell_type": "code",
   "execution_count": null,
   "metadata": {},
   "outputs": [],
   "source": [
    "session.shutdown()\n",
    "cluster.shutdown()"
   ]
  },
  {
   "cell_type": "code",
   "execution_count": null,
   "metadata": {},
   "outputs": [],
   "source": []
  },
  {
   "cell_type": "code",
   "execution_count": null,
   "metadata": {},
   "outputs": [],
   "source": []
  }
 ],
 "metadata": {
  "kernelspec": {
   "display_name": "Python 3 (ipykernel)",
   "language": "python",
   "name": "python3"
  },
  "language_info": {
   "codemirror_mode": {
    "name": "ipython",
    "version": 3
   },
   "file_extension": ".py",
   "mimetype": "text/x-python",
   "name": "python",
   "nbconvert_exporter": "python",
   "pygments_lexer": "ipython3",
   "version": "3.9.17"
  }
 },
 "nbformat": 4,
 "nbformat_minor": 2
}
